{
 "cells": [
  {
   "cell_type": "markdown",
   "metadata": {},
   "source": [
    "Robot Localization with Python and Particle Filters\n",
    "==================================================="
   ]
  },
  {
   "cell_type": "markdown",
   "metadata": {},
   "source": [
    "Import libraries and load map."
   ]
  },
  {
   "cell_type": "code",
   "execution_count": 13,
   "metadata": {},
   "outputs": [
    {
     "name": "stdout",
     "output_type": "stream",
     "text": [
      "[[ 79  80  82 ... 133 148 156]\n",
      " [ 78  79  81 ... 138 156 164]\n",
      " [ 76  77  79 ... 147 170 180]\n",
      " ...\n",
      " [181 181 182 ... 174 172 171]\n",
      " [178 178 178 ... 180 179 178]\n",
      " [177 177 177 ... 183 182 182]]\n"
     ]
    }
   ],
   "source": [
    "import numpy as np\n",
    "import cv2\n",
    "from cv2 import VideoWriter\n",
    "from cv2 import VideoWriter_fourcc\n",
    "\n",
    "\n",
    "map = cv2.imread(\"map.png\", 0)\n",
    "print(map)\n",
    "HEIGHT, WIDTH = map.shape\n",
    "\n",
    "video = VideoWriter(f'Robot_Localization.avi', VideoWriter_fourcc(*'MP42'), 15, (WIDTH, HEIGHT))\n",
    "\n",
    "\n",
    "rx, ry, rtheta = (WIDTH/4, HEIGHT/4, 0)"
   ]
  },
  {
   "cell_type": "markdown",
   "metadata": {},
   "source": [
    "Map coordinate system\n",
    "\n",
    "![title](images/coords.png)\n",
    "\n",
    "CAUTION: The terrain height at X,Y coordinates is map(Y,X)."
   ]
  },
  {
   "cell_type": "markdown",
   "metadata": {},
   "source": [
    "Read keyboard input."
   ]
  },
  {
   "cell_type": "code",
   "execution_count": 14,
   "metadata": {},
   "outputs": [],
   "source": [
    "STEP = 5\n",
    "TURN=  np.radians(25)\n",
    "def get_input():\n",
    "    fwd = 0\n",
    "    turn = 0\n",
    "    halt = False\n",
    "    k = cv2.waitKey(0)\n",
    "    print(k)\n",
    "    if k == 56:\n",
    "        fwd = STEP\n",
    "    elif k == 54:\n",
    "        turn = TURN\n",
    "    elif k == 52:\n",
    "        turn = -TURN\n",
    "    else:\n",
    "        halt = True\n",
    "    return fwd, turn, halt"
   ]
  },
  {
   "cell_type": "markdown",
   "metadata": {},
   "source": [
    "Move the robot, with Gausssian noise.\n",
    "\n",
    "![title](images/gaussian.png)"
   ]
  },
  {
   "cell_type": "code",
   "execution_count": 15,
   "metadata": {},
   "outputs": [],
   "source": [
    "SIGMA_STEP = 0.5 #pixels\n",
    "SIGMA_TURN = np.radians(5)\n",
    "\n",
    "def move_robot(rx, ry, rtheta, fwd, turn):\n",
    "    fwd_noisy = np.random.normal(fwd, SIGMA_STEP, 1)\n",
    "    print(\"fwd_noisy = \", fwd_noisy)\n",
    "    \n",
    "    rx += fwd_noisy * np.cos(rtheta)\n",
    "    ry += fwd_noisy * np.sin(rtheta)\n",
    "    \n",
    "    turn_noisy = np.random.normal(turn, SIGMA_TURN, 1)\n",
    "    print(\"turn_noisy = \", np.degrees(turn_noisy))\n",
    "    \n",
    "    rtheta += turn_noisy\n",
    "\n",
    "    return rx, ry, rtheta"
   ]
  },
  {
   "cell_type": "markdown",
   "metadata": {},
   "source": [
    "Initialize particle cloud."
   ]
  },
  {
   "cell_type": "code",
   "execution_count": 16,
   "metadata": {},
   "outputs": [],
   "source": [
    "NUM_PARTICLES = 3000\n",
    "\n",
    "def init():\n",
    "    particles = np.random.rand(NUM_PARTICLES, 3) #3000 particles with three attributes rx, ry and rtheta\n",
    "    particles *= np.array( (WIDTH, HEIGHT, np.radians(360)))\n",
    "    return particles"
   ]
  },
  {
   "cell_type": "markdown",
   "metadata": {},
   "source": [
    "Move the particles."
   ]
  },
  {
   "cell_type": "code",
   "execution_count": 17,
   "metadata": {},
   "outputs": [],
   "source": [
    "def move_particles(particles, fwd, turn):\n",
    "    particles[:, 0] += fwd * np.cos(particles[:,2])\n",
    "    particles[:, 1] += fwd * np.sin(particles[:,2])\n",
    "    particles[:, 2] += turn\n",
    "    \n",
    "    particles[:,0] = np.clip(particles[:,0], 0.0, WIDTH-1)\n",
    "    particles[:,1] = np.clip(particles[:,1], 0.0, HEIGHT-1)\n",
    "    return particles"
   ]
  },
  {
   "cell_type": "markdown",
   "metadata": {},
   "source": [
    "Get value from robot's sensor."
   ]
  },
  {
   "cell_type": "code",
   "execution_count": 18,
   "metadata": {},
   "outputs": [],
   "source": [
    "SIGMA_SENSOR = 2\n",
    "def sense(x, y, noisy=False):\n",
    "    x = int(x)\n",
    "    y = int(y)\n",
    "    if noisy:\n",
    "        return np.random.normal(map[y, x], SIGMA_SENSOR, 1)\n",
    "    return map[y, x]"
   ]
  },
  {
   "cell_type": "markdown",
   "metadata": {},
   "source": [
    "Compute particle weights."
   ]
  },
  {
   "cell_type": "code",
   "execution_count": 19,
   "metadata": {},
   "outputs": [],
   "source": [
    "def compute_weights(particles, robot_sensor):    \n",
    "    errors = np.zeros(NUM_PARTICLES)\n",
    "    for i in range(NUM_PARTICLES):\n",
    "        elevation = sense(particles[i, 0], particles[i, 1], noisy=False)\n",
    "        errors[i] = abs(robot_sensor - elevation)\n",
    "        \n",
    "    weights = np.max(errors) - errors\n",
    "    \n",
    "    weights[\n",
    "        (particles[:, 0] == 0) |\n",
    "        (particles[:,0] == WIDTH-1) |\n",
    "        (particles[:,1] == 0) |\n",
    "        (particles[:,1] == HEIGHT-1)\n",
    "    ] = 0.0\n",
    "    \n",
    "    weights = weights ** 3\n",
    "    return weights"
   ]
  },
  {
   "cell_type": "markdown",
   "metadata": {},
   "source": [
    "Resample the particles."
   ]
  },
  {
   "cell_type": "code",
   "execution_count": 20,
   "metadata": {},
   "outputs": [],
   "source": [
    "def resample(particles, weights):\n",
    "    probabilities = weights/np.sum(weights)\n",
    "    \n",
    "    new_index = np.random.choice(\n",
    "        NUM_PARTICLES,\n",
    "        size = NUM_PARTICLES,\n",
    "        p = probabilities)\n",
    "    \n",
    "    particles = particles[new_index, :]\n",
    "     \n",
    "    return particles"
   ]
  },
  {
   "cell_type": "markdown",
   "metadata": {},
   "source": [
    "Add noise to the particles."
   ]
  },
  {
   "cell_type": "code",
   "execution_count": 21,
   "metadata": {},
   "outputs": [],
   "source": [
    "SIGMA_POS = 2\n",
    "SIGMA_TURN = np.radians(10)\n",
    "\n",
    "def add_noise(particles):\n",
    "    noise  = np.concatenate(\n",
    "        (\n",
    "            np.random.normal(0, SIGMA_POS, (NUM_PARTICLES, 1)),\n",
    "            np.random.normal(0, SIGMA_POS, (NUM_PARTICLES, 1)),\n",
    "            np.random.normal(0, SIGMA_TURN, (NUM_PARTICLES, 1))\n",
    "        ), \n",
    "        axis=1\n",
    "    )\n",
    "    particles += noise\n",
    "    return particles"
   ]
  },
  {
   "cell_type": "markdown",
   "metadata": {},
   "source": [
    "Display robot, particles and best guess."
   ]
  },
  {
   "cell_type": "code",
   "execution_count": 22,
   "metadata": {},
   "outputs": [],
   "source": [
    "def display(map, rx, ry, particles):\n",
    "    lmap = cv2.cvtColor(map, cv2.COLOR_GRAY2BGR)\n",
    "    \n",
    "    # Display particles\n",
    "    if len(particles) > 0:\n",
    "        for i in range(NUM_PARTICLES):\n",
    "            cv2.circle(lmap, \n",
    "                       (int(particles[i,0]), int(particles[i,1])), \n",
    "                       1, \n",
    "                       (255,0,0), \n",
    "                       1)\n",
    "        \n",
    "    # Display robot\n",
    "    cv2.circle(lmap, (int(rx), int(ry)), 5, (0,255,0), 10)\n",
    "\n",
    "    # Display best guess\n",
    "    if len(particles) > 0:\n",
    "        px = np.mean(particles[:,0])\n",
    "        py = np.mean(particles[:,1])\n",
    "        cv2.circle(lmap, (int(px), int(py)), 5, (0,0,255), 5)\n",
    "\n",
    "    cv2.imshow('map', lmap)\n",
    "    video.write(lmap)\n"
   ]
  },
  {
   "cell_type": "markdown",
   "metadata": {},
   "source": [
    "Main routine."
   ]
  },
  {
   "cell_type": "code",
   "execution_count": 23,
   "metadata": {},
   "outputs": [
    {
     "name": "stdout",
     "output_type": "stream",
     "text": [
      "56\n",
      "fwd_noisy =  [5.47837548]\n",
      "turn_noisy =  [2.82877753]\n"
     ]
    },
    {
     "ename": "NameError",
     "evalue": "name 'lmap' is not defined",
     "output_type": "error",
     "traceback": [
      "\u001b[1;31m---------------------------------------------------------------------------\u001b[0m",
      "\u001b[1;31mNameError\u001b[0m                                 Traceback (most recent call last)",
      "\u001b[1;32m~\\AppData\\Local\\Temp/ipykernel_22768/4187577501.py\u001b[0m in \u001b[0;36m<module>\u001b[1;34m\u001b[0m\n\u001b[0;32m     13\u001b[0m         \u001b[0mparticles\u001b[0m \u001b[1;33m=\u001b[0m \u001b[0madd_noise\u001b[0m\u001b[1;33m(\u001b[0m\u001b[0mparticles\u001b[0m\u001b[1;33m)\u001b[0m\u001b[1;33m\u001b[0m\u001b[1;33m\u001b[0m\u001b[0m\n\u001b[0;32m     14\u001b[0m \u001b[1;33m\u001b[0m\u001b[0m\n\u001b[1;32m---> 15\u001b[1;33m     \u001b[0mvideo\u001b[0m\u001b[1;33m.\u001b[0m\u001b[0mwrite\u001b[0m\u001b[1;33m(\u001b[0m\u001b[0mlmap\u001b[0m\u001b[1;33m)\u001b[0m\u001b[1;33m\u001b[0m\u001b[1;33m\u001b[0m\u001b[0m\n\u001b[0m\u001b[0;32m     16\u001b[0m     \u001b[0mcv2\u001b[0m\u001b[1;33m.\u001b[0m\u001b[0mdestroyAllWindows\u001b[0m\u001b[1;33m(\u001b[0m\u001b[1;33m)\u001b[0m\u001b[1;33m\u001b[0m\u001b[1;33m\u001b[0m\u001b[0m\n\u001b[0;32m     17\u001b[0m \u001b[1;33m\u001b[0m\u001b[0m\n",
      "\u001b[1;31mNameError\u001b[0m: name 'lmap' is not defined"
     ]
    }
   ],
   "source": [
    "particles = init()\n",
    "while True:\n",
    "    display(map, rx, ry, particles)\n",
    "    fwd, turn, halt = get_input()\n",
    "    if halt:\n",
    "        break\n",
    "    rx, ry, rtheta = move_robot(rx, ry, rtheta, fwd, turn)\n",
    "    particles = move_particles(particles, fwd, turn)\n",
    "    if fwd != 0:\n",
    "        robot_sensor = sense(rx, ry, noisy=True)        \n",
    "        weights = compute_weights(particles, robot_sensor)\n",
    "        particles = resample(particles, weights)\n",
    "        particles = add_noise(particles)\n",
    "    cv2.destroyAllWindows()                        \n",
    "\n",
    "cv2.destroyAllWindows()                        \n"
   ]
  },
  {
   "cell_type": "code",
   "execution_count": null,
   "metadata": {},
   "outputs": [],
   "source": [
    "video.release()"
   ]
  },
  {
   "cell_type": "code",
   "execution_count": null,
   "metadata": {},
   "outputs": [],
   "source": []
  }
 ],
 "metadata": {
  "kernelspec": {
   "display_name": "Python 3 (ipykernel)",
   "language": "python",
   "name": "python3"
  },
  "language_info": {
   "codemirror_mode": {
    "name": "ipython",
    "version": 3
   },
   "file_extension": ".py",
   "mimetype": "text/x-python",
   "name": "python",
   "nbconvert_exporter": "python",
   "pygments_lexer": "ipython3",
   "version": "3.7.7"
  }
 },
 "nbformat": 4,
 "nbformat_minor": 4
}
